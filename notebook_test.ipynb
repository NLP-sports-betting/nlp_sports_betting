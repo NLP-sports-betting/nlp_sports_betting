{
 "cells": [
  {
   "cell_type": "code",
   "execution_count": 1,
   "metadata": {},
   "outputs": [],
   "source": [
    "import pandas as pd\n",
    "import numpy as np\n",
    "\n",
    "#see the data\n",
    "import matplotlib.pyplot as plt\n",
    "from wordcloud import WordCloud\n",
    "\n",
    "#play with words\n",
    "import nltk\n",
    "import re\n",
    "from pprint import pprint\n",
    "\n",
    "\n",
    "import warnings\n",
    "warnings.filterwarnings(\"ignore\")\n",
    "import json\n",
    "import wrangle as w\n",
    "\n",
    "from sklearn.feature_extraction.text import CountVectorizer\n",
    "from sklearn.feature_extraction.text import TfidfVectorizer\n",
    "import auto_model2a1 as atm\n",
    "\n",
    "import seaborn as sns\n",
    "import unicodedata"
   ]
  },
  {
   "cell_type": "code",
   "execution_count": 2,
   "metadata": {},
   "outputs": [
    {
     "data": {
      "text/plain": [
       "'import json\\ndata = w.scrape_github_data()\\njson.dump(data, open(\"data.json\", \"w\"), indent=1)'"
      ]
     },
     "execution_count": 2,
     "metadata": {},
     "output_type": "execute_result"
    }
   ],
   "source": [
    "#save dictionary as a json file\n",
    "'''import json\n",
    "data = w.scrape_github_data()\n",
    "json.dump(data, open(\"data.json\", \"w\"), indent=1)'''"
   ]
  },
  {
   "cell_type": "code",
   "execution_count": 3,
   "metadata": {},
   "outputs": [],
   "source": [
    "#import json file\n",
    "\n",
    "data = json.load(open(\"data.json\"))"
   ]
  },
  {
   "cell_type": "code",
   "execution_count": 4,
   "metadata": {},
   "outputs": [],
   "source": [
    "df = pd.DataFrame(data)   "
   ]
  },
  {
   "cell_type": "code",
   "execution_count": 5,
   "metadata": {},
   "outputs": [],
   "source": [
    "df.readme_contents = df.readme_contents.str.replace('-',' ')"
   ]
  },
  {
   "cell_type": "code",
   "execution_count": 6,
   "metadata": {},
   "outputs": [
    {
     "data": {
      "text/html": [
       "<div>\n",
       "<style scoped>\n",
       "    .dataframe tbody tr th:only-of-type {\n",
       "        vertical-align: middle;\n",
       "    }\n",
       "\n",
       "    .dataframe tbody tr th {\n",
       "        vertical-align: top;\n",
       "    }\n",
       "\n",
       "    .dataframe thead th {\n",
       "        text-align: right;\n",
       "    }\n",
       "</style>\n",
       "<table border=\"1\" class=\"dataframe\">\n",
       "  <thead>\n",
       "    <tr style=\"text-align: right;\">\n",
       "      <th></th>\n",
       "      <th>repo</th>\n",
       "      <th>language</th>\n",
       "      <th>readme_contents</th>\n",
       "    </tr>\n",
       "  </thead>\n",
       "  <tbody>\n",
       "    <tr>\n",
       "      <th>0</th>\n",
       "      <td>/kyleskom/NBA-Machine-Learning-Sports-Betting</td>\n",
       "      <td>Python</td>\n",
       "      <td># NBA Sports Betting Using Machine Learning 🏀\\...</td>\n",
       "    </tr>\n",
       "    <tr>\n",
       "      <th>1</th>\n",
       "      <td>/pretrehr/Sports-betting</td>\n",
       "      <td>Python</td>\n",
       "      <td>[![forthebadge made with python](http://ForThe...</td>\n",
       "    </tr>\n",
       "    <tr>\n",
       "      <th>2</th>\n",
       "      <td>/llSourcell/ChatGPT_Sports_Betting_Bot</td>\n",
       "      <td>Jupyter Notebook</td>\n",
       "      <td># ChatGPT Sports Betting Bot\\n\\nThis is the co...</td>\n",
       "    </tr>\n",
       "    <tr>\n",
       "      <th>3</th>\n",
       "      <td>/georgedouzas/sports-betting</td>\n",
       "      <td>Python</td>\n",
       "      <td>[scikit learn]: &lt;http://scikit learn.org/stabl...</td>\n",
       "    </tr>\n",
       "    <tr>\n",
       "      <th>4</th>\n",
       "      <td>/sedemmler/WagerBrain</td>\n",
       "      <td>Python</td>\n",
       "      <td># WagerBrain\\nA package containing the essenti...</td>\n",
       "    </tr>\n",
       "  </tbody>\n",
       "</table>\n",
       "</div>"
      ],
      "text/plain": [
       "                                            repo          language  \\\n",
       "0  /kyleskom/NBA-Machine-Learning-Sports-Betting            Python   \n",
       "1                       /pretrehr/Sports-betting            Python   \n",
       "2         /llSourcell/ChatGPT_Sports_Betting_Bot  Jupyter Notebook   \n",
       "3                   /georgedouzas/sports-betting            Python   \n",
       "4                          /sedemmler/WagerBrain            Python   \n",
       "\n",
       "                                     readme_contents  \n",
       "0  # NBA Sports Betting Using Machine Learning 🏀\\...  \n",
       "1  [![forthebadge made with python](http://ForThe...  \n",
       "2  # ChatGPT Sports Betting Bot\\n\\nThis is the co...  \n",
       "3  [scikit learn]: <http://scikit learn.org/stabl...  \n",
       "4  # WagerBrain\\nA package containing the essenti...  "
      ]
     },
     "execution_count": 6,
     "metadata": {},
     "output_type": "execute_result"
    }
   ],
   "source": [
    "df.head()\n"
   ]
  },
  {
   "cell_type": "code",
   "execution_count": 7,
   "metadata": {},
   "outputs": [],
   "source": [
    "df['clean_norm_token'] = df.readme_contents.apply(w.tokenize).apply(w.basic_clean).apply(w.remove_stopwords).apply(w.lemmatize)"
   ]
  },
  {
   "cell_type": "code",
   "execution_count": 8,
   "metadata": {},
   "outputs": [
    {
     "data": {
      "text/html": [
       "<div>\n",
       "<style scoped>\n",
       "    .dataframe tbody tr th:only-of-type {\n",
       "        vertical-align: middle;\n",
       "    }\n",
       "\n",
       "    .dataframe tbody tr th {\n",
       "        vertical-align: top;\n",
       "    }\n",
       "\n",
       "    .dataframe thead th {\n",
       "        text-align: right;\n",
       "    }\n",
       "</style>\n",
       "<table border=\"1\" class=\"dataframe\">\n",
       "  <thead>\n",
       "    <tr style=\"text-align: right;\">\n",
       "      <th></th>\n",
       "      <th>repo</th>\n",
       "      <th>language</th>\n",
       "      <th>readme_contents</th>\n",
       "      <th>clean_norm_token</th>\n",
       "    </tr>\n",
       "  </thead>\n",
       "  <tbody>\n",
       "    <tr>\n",
       "      <th>0</th>\n",
       "      <td>/kyleskom/NBA-Machine-Learning-Sports-Betting</td>\n",
       "      <td>Python</td>\n",
       "      <td># NBA Sports Betting Using Machine Learning 🏀\\...</td>\n",
       "      <td>nba sport betting using machine learning img s...</td>\n",
       "    </tr>\n",
       "    <tr>\n",
       "      <th>1</th>\n",
       "      <td>/pretrehr/Sports-betting</td>\n",
       "      <td>Python</td>\n",
       "      <td>[![forthebadge made with python](http://ForThe...</td>\n",
       "      <td>forthebadge made python httpforthebadgecomimag...</td>\n",
       "    </tr>\n",
       "    <tr>\n",
       "      <th>2</th>\n",
       "      <td>/llSourcell/ChatGPT_Sports_Betting_Bot</td>\n",
       "      <td>Jupyter Notebook</td>\n",
       "      <td># ChatGPT Sports Betting Bot\\n\\nThis is the co...</td>\n",
       "      <td>chatgpt sport betting bot code chatgpt sport b...</td>\n",
       "    </tr>\n",
       "    <tr>\n",
       "      <th>3</th>\n",
       "      <td>/georgedouzas/sports-betting</td>\n",
       "      <td>Python</td>\n",
       "      <td>[scikit learn]: &lt;http://scikit learn.org/stabl...</td>\n",
       "      <td>scikit learn httpscikit learnorgstable black b...</td>\n",
       "    </tr>\n",
       "    <tr>\n",
       "      <th>4</th>\n",
       "      <td>/sedemmler/WagerBrain</td>\n",
       "      <td>Python</td>\n",
       "      <td># WagerBrain\\nA package containing the essenti...</td>\n",
       "      <td>wagerbrain package containing essential math t...</td>\n",
       "    </tr>\n",
       "  </tbody>\n",
       "</table>\n",
       "</div>"
      ],
      "text/plain": [
       "                                            repo          language  \\\n",
       "0  /kyleskom/NBA-Machine-Learning-Sports-Betting            Python   \n",
       "1                       /pretrehr/Sports-betting            Python   \n",
       "2         /llSourcell/ChatGPT_Sports_Betting_Bot  Jupyter Notebook   \n",
       "3                   /georgedouzas/sports-betting            Python   \n",
       "4                          /sedemmler/WagerBrain            Python   \n",
       "\n",
       "                                     readme_contents  \\\n",
       "0  # NBA Sports Betting Using Machine Learning 🏀\\...   \n",
       "1  [![forthebadge made with python](http://ForThe...   \n",
       "2  # ChatGPT Sports Betting Bot\\n\\nThis is the co...   \n",
       "3  [scikit learn]: <http://scikit learn.org/stabl...   \n",
       "4  # WagerBrain\\nA package containing the essenti...   \n",
       "\n",
       "                                    clean_norm_token  \n",
       "0  nba sport betting using machine learning img s...  \n",
       "1  forthebadge made python httpforthebadgecomimag...  \n",
       "2  chatgpt sport betting bot code chatgpt sport b...  \n",
       "3  scikit learn httpscikit learnorgstable black b...  \n",
       "4  wagerbrain package containing essential math t...  "
      ]
     },
     "execution_count": 8,
     "metadata": {},
     "output_type": "execute_result"
    }
   ],
   "source": [
    "df.head()"
   ]
  },
  {
   "cell_type": "code",
   "execution_count": 9,
   "metadata": {},
   "outputs": [],
   "source": [
    "#drop rows with nulls \n",
    "df = df.dropna()\n"
   ]
  },
  {
   "cell_type": "code",
   "execution_count": 10,
   "metadata": {},
   "outputs": [
    {
     "name": "stdout",
     "output_type": "stream",
     "text": [
      "<class 'pandas.core.frame.DataFrame'>\n",
      "Int64Index: 100 entries, 0 to 103\n",
      "Data columns (total 4 columns):\n",
      " #   Column            Non-Null Count  Dtype \n",
      "---  ------            --------------  ----- \n",
      " 0   repo              100 non-null    object\n",
      " 1   language          100 non-null    object\n",
      " 2   readme_contents   100 non-null    object\n",
      " 3   clean_norm_token  100 non-null    object\n",
      "dtypes: object(4)\n",
      "memory usage: 3.9+ KB\n"
     ]
    }
   ],
   "source": [
    "df.info()"
   ]
  },
  {
   "cell_type": "code",
   "execution_count": 11,
   "metadata": {},
   "outputs": [
    {
     "name": "stdout",
     "output_type": "stream",
     "text": [
      "['JavaScript', 'Python', 'Jupyter Notebook']\n"
     ]
    }
   ],
   "source": [
    "#in language column replace language with other if it is not in the top 3 languages\n",
    "top_3 = df.language.value_counts().head(3).index.tolist()\n",
    "print(top_3)\n",
    "df.language = df.language.apply(lambda x: x if x in top_3 else 'other')\n",
    "\n",
    "\n"
   ]
  },
  {
   "cell_type": "code",
   "execution_count": 12,
   "metadata": {},
   "outputs": [
    {
     "data": {
      "text/plain": [
       "other               0.43\n",
       "JavaScript          0.24\n",
       "Python              0.23\n",
       "Jupyter Notebook    0.10\n",
       "Name: language, dtype: float64"
      ]
     },
     "execution_count": 12,
     "metadata": {},
     "output_type": "execute_result"
    }
   ],
   "source": [
    "#baseline is 43%\n",
    "df.language.value_counts(normalize=True)"
   ]
  },
  {
   "cell_type": "code",
   "execution_count": 13,
   "metadata": {},
   "outputs": [],
   "source": [
    "#calls the split function from wrangle.py\n",
    "train, validate, test = w.split_function_cat_target(df, \"language\")"
   ]
  },
  {
   "cell_type": "code",
   "execution_count": 14,
   "metadata": {},
   "outputs": [
    {
     "data": {
      "text/html": [
       "<div>\n",
       "<style scoped>\n",
       "    .dataframe tbody tr th:only-of-type {\n",
       "        vertical-align: middle;\n",
       "    }\n",
       "\n",
       "    .dataframe tbody tr th {\n",
       "        vertical-align: top;\n",
       "    }\n",
       "\n",
       "    .dataframe thead th {\n",
       "        text-align: right;\n",
       "    }\n",
       "</style>\n",
       "<table border=\"1\" class=\"dataframe\">\n",
       "  <thead>\n",
       "    <tr style=\"text-align: right;\">\n",
       "      <th></th>\n",
       "      <th>repo</th>\n",
       "      <th>language</th>\n",
       "      <th>readme_contents</th>\n",
       "      <th>clean_norm_token</th>\n",
       "    </tr>\n",
       "  </thead>\n",
       "  <tbody>\n",
       "    <tr>\n",
       "      <th>51</th>\n",
       "      <td>/Cloudbet/docs</td>\n",
       "      <td>JavaScript</td>\n",
       "      <td>[Cloudbet](https://www.cloudbet.com/) API is p...</td>\n",
       "      <td>cloudbet httpswwwcloudbetcom api publicly avai...</td>\n",
       "    </tr>\n",
       "    <tr>\n",
       "      <th>103</th>\n",
       "      <td>/denp1/bfjs</td>\n",
       "      <td>JavaScript</td>\n",
       "      <td>bfjs\\n====\\n\\nWhat is it\\n==========\\n\\n**bfjs...</td>\n",
       "      <td>bfjs bfjs javascript bookmarklet adding live c...</td>\n",
       "    </tr>\n",
       "    <tr>\n",
       "      <th>68</th>\n",
       "      <td>/incredigroup/cryptobetting_sports</td>\n",
       "      <td>JavaScript</td>\n",
       "      <td># ESportsRef Website built with Next/Mongo\\n\\n...</td>\n",
       "      <td>esportsref website built nextmongo mongodb con...</td>\n",
       "    </tr>\n",
       "    <tr>\n",
       "      <th>33</th>\n",
       "      <td>/S1M0N38/aao</td>\n",
       "      <td>Python</td>\n",
       "      <td>&gt; :warning: This project is no longer supporte...</td>\n",
       "      <td>warning project longer supported check new ver...</td>\n",
       "    </tr>\n",
       "    <tr>\n",
       "      <th>83</th>\n",
       "      <td>/gonzalezlrjesus/API-Betting-Sports</td>\n",
       "      <td>other</td>\n",
       "      <td># Sports Betting API\\n[![Go Reference](https:/...</td>\n",
       "      <td>sport betting api go reference httpspkggodevba...</td>\n",
       "    </tr>\n",
       "  </tbody>\n",
       "</table>\n",
       "</div>"
      ],
      "text/plain": [
       "                                    repo    language  \\\n",
       "51                        /Cloudbet/docs  JavaScript   \n",
       "103                          /denp1/bfjs  JavaScript   \n",
       "68    /incredigroup/cryptobetting_sports  JavaScript   \n",
       "33                          /S1M0N38/aao      Python   \n",
       "83   /gonzalezlrjesus/API-Betting-Sports       other   \n",
       "\n",
       "                                       readme_contents  \\\n",
       "51   [Cloudbet](https://www.cloudbet.com/) API is p...   \n",
       "103  bfjs\\n====\\n\\nWhat is it\\n==========\\n\\n**bfjs...   \n",
       "68   # ESportsRef Website built with Next/Mongo\\n\\n...   \n",
       "33   > :warning: This project is no longer supporte...   \n",
       "83   # Sports Betting API\\n[![Go Reference](https:/...   \n",
       "\n",
       "                                      clean_norm_token  \n",
       "51   cloudbet httpswwwcloudbetcom api publicly avai...  \n",
       "103  bfjs bfjs javascript bookmarklet adding live c...  \n",
       "68   esportsref website built nextmongo mongodb con...  \n",
       "33   warning project longer supported check new ver...  \n",
       "83   sport betting api go reference httpspkggodevba...  "
      ]
     },
     "execution_count": 14,
     "metadata": {},
     "output_type": "execute_result"
    }
   ],
   "source": [
    "train.head()"
   ]
  },
  {
   "cell_type": "code",
   "execution_count": 15,
   "metadata": {},
   "outputs": [],
   "source": [
    "\n",
    "python_words = w.clean(' '.join(train[train.language=='Python']['clean_norm_token']))\n",
    "java_script_words = w.clean(' '.join(train[train.language=='JavaScript']['clean_norm_token']))\n",
    "jupyter_notebook_words = w.clean(' '.join(train[train.language=='Jupyter Notebook']['clean_norm_token']))\n",
    "other_words = w.clean(' '.join(train[train.language=='other']['clean_norm_token']))\n",
    "\n",
    "all_words = w.clean(' '.join(df['clean_norm_token']))"
   ]
  },
  {
   "cell_type": "code",
   "execution_count": 16,
   "metadata": {},
   "outputs": [],
   "source": [
    "python_freq = pd.Series(python_words).value_counts()\n",
    "java_script_freq = pd.Series(java_script_words).value_counts()\n",
    "jupyter_notebook_freq = pd.Series(jupyter_notebook_words).value_counts()\n",
    "other_freq = pd.Series(other_words).value_counts()\n",
    "\n",
    "all_freq = pd.Series(all_words).value_counts()"
   ]
  },
  {
   "cell_type": "code",
   "execution_count": 17,
   "metadata": {},
   "outputs": [],
   "source": [
    "def make_ngrams(words, n):\n",
    "    return pd.Series(nltk.ngrams(words, n)).value_counts().head(20)"
   ]
  },
  {
   "cell_type": "code",
   "execution_count": 18,
   "metadata": {},
   "outputs": [],
   "source": [
    "def plot_bigrams(words):\n",
    "    word_data = {k[0] + ' ' + k[1]: v for k, v in words.to_dict().items()}\n",
    "    \n",
    "    word_img = WordCloud(background_color='white', width=800, height=400).generate_from_frequencies(word_data)\n",
    "    \n",
    "    plt.figure(figsize=(8, 4))\n",
    "    plt.imshow(word_img)\n",
    "    plt.axis('off')\n",
    "    plt.show()"
   ]
  },
  {
   "cell_type": "code",
   "execution_count": 21,
   "metadata": {},
   "outputs": [],
   "source": [
    "# setting basic style parameters for matplotlib\n",
    "plt.rc('figure', figsize=(13, 7))\n",
    "plt.style.use('seaborn-darkgrid')"
   ]
  },
  {
   "cell_type": "code",
   "execution_count": 22,
   "metadata": {},
   "outputs": [
    {
     "data": {
      "text/plain": [
       "<AxesSubplot:>"
      ]
     },
     "execution_count": 22,
     "metadata": {},
     "output_type": "execute_result"
    },
    {
     "data": {
      "image/png": "[encoded data removed]",
      "text/plain": [
       "<Figure size 936x504 with 1 Axes>"
      ]
     },
     "metadata": {},
     "output_type": "display_data"
    }
   ],
   "source": [
    "pd.Series(nltk.ngrams(python_words,2)).value_counts().head(20).plot.barh()"
   ]
  },
  {
   "cell_type": "code",
   "execution_count": 23,
   "metadata": {},
   "outputs": [
    {
     "ename": "AttributeError",
     "evalue": "'TransposedFont' object has no attribute 'getbbox'",
     "output_type": "error",
     "traceback": [
      "\u001b[0;31m---------------------------------------------------------------------------\u001b[0m",
      "\u001b[0;31mAttributeError\u001b[0m                            Traceback (most recent call last)",
      "\u001b[0;32m<ipython-input-23-1363116f9487>\u001b[0m in \u001b[0;36m<module>\u001b[0;34m\u001b[0m\n\u001b[0;32m----> 1\u001b[0;31m \u001b[0mblog_img\u001b[0m \u001b[0;34m=\u001b[0m \u001b[0mWordCloud\u001b[0m\u001b[0;34m(\u001b[0m\u001b[0mbackground_color\u001b[0m\u001b[0;34m=\u001b[0m\u001b[0;34m'white'\u001b[0m\u001b[0;34m)\u001b[0m\u001b[0;34m.\u001b[0m\u001b[0mgenerate_from_frequencies\u001b[0m\u001b[0;34m(\u001b[0m\u001b[0mpython_freq\u001b[0m\u001b[0;34m)\u001b[0m\u001b[0;34m\u001b[0m\u001b[0;34m\u001b[0m\u001b[0m\n\u001b[0m\u001b[1;32m      2\u001b[0m \u001b[0mplt\u001b[0m\u001b[0;34m.\u001b[0m\u001b[0mimshow\u001b[0m\u001b[0;34m(\u001b[0m\u001b[0mblog_img\u001b[0m\u001b[0;34m)\u001b[0m\u001b[0;34m\u001b[0m\u001b[0;34m\u001b[0m\u001b[0m\n\u001b[1;32m      3\u001b[0m \u001b[0mplt\u001b[0m\u001b[0;34m.\u001b[0m\u001b[0maxis\u001b[0m\u001b[0;34m(\u001b[0m\u001b[0;34m'off'\u001b[0m\u001b[0;34m)\u001b[0m\u001b[0;34m\u001b[0m\u001b[0;34m\u001b[0m\u001b[0m\n\u001b[1;32m      4\u001b[0m \u001b[0mplt\u001b[0m\u001b[0;34m.\u001b[0m\u001b[0mshow\u001b[0m\u001b[0;34m(\u001b[0m\u001b[0;34m)\u001b[0m\u001b[0;34m\u001b[0m\u001b[0;34m\u001b[0m\u001b[0m\n",
      "\u001b[0;32m~/opt/anaconda3/lib/python3.8/site-packages/wordcloud/wordcloud.py\u001b[0m in \u001b[0;36mgenerate_from_frequencies\u001b[0;34m(self, frequencies, max_font_size)\u001b[0m\n\u001b[1;32m    451\u001b[0m                 \u001b[0mfont_size\u001b[0m \u001b[0;34m=\u001b[0m \u001b[0mself\u001b[0m\u001b[0;34m.\u001b[0m\u001b[0mheight\u001b[0m\u001b[0;34m\u001b[0m\u001b[0;34m\u001b[0m\u001b[0m\n\u001b[1;32m    452\u001b[0m             \u001b[0;32melse\u001b[0m\u001b[0;34m:\u001b[0m\u001b[0;34m\u001b[0m\u001b[0;34m\u001b[0m\u001b[0m\n\u001b[0;32m--> 453\u001b[0;31m                 self.generate_from_frequencies(dict(frequencies[:2]),\n\u001b[0m\u001b[1;32m    454\u001b[0m                                                max_font_size=self.height)\n\u001b[1;32m    455\u001b[0m                 \u001b[0;31m# find font sizes\u001b[0m\u001b[0;34m\u001b[0m\u001b[0;34m\u001b[0m\u001b[0;34m\u001b[0m\u001b[0m\n",
      "\u001b[0;32m~/opt/anaconda3/lib/python3.8/site-packages/wordcloud/wordcloud.py\u001b[0m in \u001b[0;36mgenerate_from_frequencies\u001b[0;34m(self, frequencies, max_font_size)\u001b[0m\n\u001b[1;32m    506\u001b[0m                     font, orientation=orientation)\n\u001b[1;32m    507\u001b[0m                 \u001b[0;31m# get size of resulting text\u001b[0m\u001b[0;34m\u001b[0m\u001b[0;34m\u001b[0m\u001b[0;34m\u001b[0m\u001b[0m\n\u001b[0;32m--> 508\u001b[0;31m                 \u001b[0mbox_size\u001b[0m \u001b[0;34m=\u001b[0m \u001b[0mdraw\u001b[0m\u001b[0;34m.\u001b[0m\u001b[0mtextbbox\u001b[0m\u001b[0;34m(\u001b[0m\u001b[0;34m(\u001b[0m\u001b[0;36m0\u001b[0m\u001b[0;34m,\u001b[0m \u001b[0;36m0\u001b[0m\u001b[0;34m)\u001b[0m\u001b[0;34m,\u001b[0m \u001b[0mword\u001b[0m\u001b[0;34m,\u001b[0m \u001b[0mfont\u001b[0m\u001b[0;34m=\u001b[0m\u001b[0mtransposed_font\u001b[0m\u001b[0;34m,\u001b[0m \u001b[0manchor\u001b[0m\u001b[0;34m=\u001b[0m\u001b[0;34m\"lt\"\u001b[0m\u001b[0;34m)\u001b[0m\u001b[0;34m\u001b[0m\u001b[0;34m\u001b[0m\u001b[0m\n\u001b[0m\u001b[1;32m    509\u001b[0m                 \u001b[0;31m# find possible places using integral image:\u001b[0m\u001b[0;34m\u001b[0m\u001b[0;34m\u001b[0m\u001b[0;34m\u001b[0m\u001b[0m\n\u001b[1;32m    510\u001b[0m                 result = occupancy.sample_position(box_size[3] + self.margin,\n",
      "\u001b[0;32m~/opt/anaconda3/lib/python3.8/site-packages/PIL/ImageDraw.py\u001b[0m in \u001b[0;36mtextbbox\u001b[0;34m(self, xy, text, font, anchor, spacing, align, direction, features, language, stroke_width, embedded_color)\u001b[0m\n\u001b[1;32m    655\u001b[0m             \u001b[0mfont\u001b[0m \u001b[0;34m=\u001b[0m \u001b[0mself\u001b[0m\u001b[0;34m.\u001b[0m\u001b[0mgetfont\u001b[0m\u001b[0;34m(\u001b[0m\u001b[0;34m)\u001b[0m\u001b[0;34m\u001b[0m\u001b[0;34m\u001b[0m\u001b[0m\n\u001b[1;32m    656\u001b[0m         \u001b[0mmode\u001b[0m \u001b[0;34m=\u001b[0m \u001b[0;34m\"RGBA\"\u001b[0m \u001b[0;32mif\u001b[0m \u001b[0membedded_color\u001b[0m \u001b[0;32melse\u001b[0m \u001b[0mself\u001b[0m\u001b[0;34m.\u001b[0m\u001b[0mfontmode\u001b[0m\u001b[0;34m\u001b[0m\u001b[0;34m\u001b[0m\u001b[0m\n\u001b[0;32m--> 657\u001b[0;31m         bbox = font.getbbox(\n\u001b[0m\u001b[1;32m    658\u001b[0m             \u001b[0mtext\u001b[0m\u001b[0;34m,\u001b[0m \u001b[0mmode\u001b[0m\u001b[0;34m,\u001b[0m \u001b[0mdirection\u001b[0m\u001b[0;34m,\u001b[0m \u001b[0mfeatures\u001b[0m\u001b[0;34m,\u001b[0m \u001b[0mlanguage\u001b[0m\u001b[0;34m,\u001b[0m \u001b[0mstroke_width\u001b[0m\u001b[0;34m,\u001b[0m \u001b[0manchor\u001b[0m\u001b[0;34m\u001b[0m\u001b[0;34m\u001b[0m\u001b[0m\n\u001b[1;32m    659\u001b[0m         )\n",
      "\u001b[0;31mAttributeError\u001b[0m: 'TransposedFont' object has no attribute 'getbbox'"
     ]
    }
   ],
   "source": [
    "blog_img = WordCloud(background_color='white').generate_from_frequencies(python_freq)\n",
    "plt.imshow(blog_img)\n",
    "plt.axis('off')\n",
    "plt.show()"
   ]
  },
  {
   "cell_type": "code",
   "execution_count": null,
   "metadata": {},
   "outputs": [
    {
     "ename": "AttributeError",
     "evalue": "'TransposedFont' object has no attribute 'getbbox'",
     "output_type": "error",
     "traceback": [
      "\u001b[0;31m---------------------------------------------------------------------------\u001b[0m",
      "\u001b[0;31mAttributeError\u001b[0m                            Traceback (most recent call last)",
      "\u001b[0;32m<ipython-input-23-bf57483c29ec>\u001b[0m in \u001b[0;36m<module>\u001b[0;34m\u001b[0m\n\u001b[0;32m----> 1\u001b[0;31m \u001b[0mblog_img\u001b[0m \u001b[0;34m=\u001b[0m \u001b[0mWordCloud\u001b[0m\u001b[0;34m(\u001b[0m\u001b[0mbackground_color\u001b[0m\u001b[0;34m=\u001b[0m\u001b[0;34m'white'\u001b[0m\u001b[0;34m)\u001b[0m\u001b[0;34m.\u001b[0m\u001b[0mgenerate_from_frequencies\u001b[0m\u001b[0;34m(\u001b[0m\u001b[0mjava_script_freq\u001b[0m\u001b[0;34m)\u001b[0m\u001b[0;34m\u001b[0m\u001b[0;34m\u001b[0m\u001b[0m\n\u001b[0m\u001b[1;32m      2\u001b[0m \u001b[0mplt\u001b[0m\u001b[0;34m.\u001b[0m\u001b[0mimshow\u001b[0m\u001b[0;34m(\u001b[0m\u001b[0mblog_img\u001b[0m\u001b[0;34m)\u001b[0m\u001b[0;34m\u001b[0m\u001b[0;34m\u001b[0m\u001b[0m\n\u001b[1;32m      3\u001b[0m \u001b[0mplt\u001b[0m\u001b[0;34m.\u001b[0m\u001b[0maxis\u001b[0m\u001b[0;34m(\u001b[0m\u001b[0;34m'off'\u001b[0m\u001b[0;34m)\u001b[0m\u001b[0;34m\u001b[0m\u001b[0;34m\u001b[0m\u001b[0m\n\u001b[1;32m      4\u001b[0m \u001b[0mplt\u001b[0m\u001b[0;34m.\u001b[0m\u001b[0mshow\u001b[0m\u001b[0;34m(\u001b[0m\u001b[0;34m)\u001b[0m\u001b[0;34m\u001b[0m\u001b[0;34m\u001b[0m\u001b[0m\n",
      "\u001b[0;32m~/opt/anaconda3/lib/python3.8/site-packages/wordcloud/wordcloud.py\u001b[0m in \u001b[0;36mgenerate_from_frequencies\u001b[0;34m(self, frequencies, max_font_size)\u001b[0m\n\u001b[1;32m    451\u001b[0m                 \u001b[0mfont_size\u001b[0m \u001b[0;34m=\u001b[0m \u001b[0mself\u001b[0m\u001b[0;34m.\u001b[0m\u001b[0mheight\u001b[0m\u001b[0;34m\u001b[0m\u001b[0;34m\u001b[0m\u001b[0m\n\u001b[1;32m    452\u001b[0m             \u001b[0;32melse\u001b[0m\u001b[0;34m:\u001b[0m\u001b[0;34m\u001b[0m\u001b[0;34m\u001b[0m\u001b[0m\n\u001b[0;32m--> 453\u001b[0;31m                 self.generate_from_frequencies(dict(frequencies[:2]),\n\u001b[0m\u001b[1;32m    454\u001b[0m                                                max_font_size=self.height)\n\u001b[1;32m    455\u001b[0m                 \u001b[0;31m# find font sizes\u001b[0m\u001b[0;34m\u001b[0m\u001b[0;34m\u001b[0m\u001b[0;34m\u001b[0m\u001b[0m\n",
      "\u001b[0;32m~/opt/anaconda3/lib/python3.8/site-packages/wordcloud/wordcloud.py\u001b[0m in \u001b[0;36mgenerate_from_frequencies\u001b[0;34m(self, frequencies, max_font_size)\u001b[0m\n\u001b[1;32m    506\u001b[0m                     font, orientation=orientation)\n\u001b[1;32m    507\u001b[0m                 \u001b[0;31m# get size of resulting text\u001b[0m\u001b[0;34m\u001b[0m\u001b[0;34m\u001b[0m\u001b[0;34m\u001b[0m\u001b[0m\n\u001b[0;32m--> 508\u001b[0;31m                 \u001b[0mbox_size\u001b[0m \u001b[0;34m=\u001b[0m \u001b[0mdraw\u001b[0m\u001b[0;34m.\u001b[0m\u001b[0mtextbbox\u001b[0m\u001b[0;34m(\u001b[0m\u001b[0;34m(\u001b[0m\u001b[0;36m0\u001b[0m\u001b[0;34m,\u001b[0m \u001b[0;36m0\u001b[0m\u001b[0;34m)\u001b[0m\u001b[0;34m,\u001b[0m \u001b[0mword\u001b[0m\u001b[0;34m,\u001b[0m \u001b[0mfont\u001b[0m\u001b[0;34m=\u001b[0m\u001b[0mtransposed_font\u001b[0m\u001b[0;34m,\u001b[0m \u001b[0manchor\u001b[0m\u001b[0;34m=\u001b[0m\u001b[0;34m\"lt\"\u001b[0m\u001b[0;34m)\u001b[0m\u001b[0;34m\u001b[0m\u001b[0;34m\u001b[0m\u001b[0m\n\u001b[0m\u001b[1;32m    509\u001b[0m                 \u001b[0;31m# find possible places using integral image:\u001b[0m\u001b[0;34m\u001b[0m\u001b[0;34m\u001b[0m\u001b[0;34m\u001b[0m\u001b[0m\n\u001b[1;32m    510\u001b[0m                 result = occupancy.sample_position(box_size[3] + self.margin,\n",
      "\u001b[0;32m~/opt/anaconda3/lib/python3.8/site-packages/PIL/ImageDraw.py\u001b[0m in \u001b[0;36mtextbbox\u001b[0;34m(self, xy, text, font, anchor, spacing, align, direction, features, language, stroke_width, embedded_color)\u001b[0m\n\u001b[1;32m    655\u001b[0m             \u001b[0mfont\u001b[0m \u001b[0;34m=\u001b[0m \u001b[0mself\u001b[0m\u001b[0;34m.\u001b[0m\u001b[0mgetfont\u001b[0m\u001b[0;34m(\u001b[0m\u001b[0;34m)\u001b[0m\u001b[0;34m\u001b[0m\u001b[0;34m\u001b[0m\u001b[0m\n\u001b[1;32m    656\u001b[0m         \u001b[0mmode\u001b[0m \u001b[0;34m=\u001b[0m \u001b[0;34m\"RGBA\"\u001b[0m \u001b[0;32mif\u001b[0m \u001b[0membedded_color\u001b[0m \u001b[0;32melse\u001b[0m \u001b[0mself\u001b[0m\u001b[0;34m.\u001b[0m\u001b[0mfontmode\u001b[0m\u001b[0;34m\u001b[0m\u001b[0;34m\u001b[0m\u001b[0m\n\u001b[0;32m--> 657\u001b[0;31m         bbox = font.getbbox(\n\u001b[0m\u001b[1;32m    658\u001b[0m             \u001b[0mtext\u001b[0m\u001b[0;34m,\u001b[0m \u001b[0mmode\u001b[0m\u001b[0;34m,\u001b[0m \u001b[0mdirection\u001b[0m\u001b[0;34m,\u001b[0m \u001b[0mfeatures\u001b[0m\u001b[0;34m,\u001b[0m \u001b[0mlanguage\u001b[0m\u001b[0;34m,\u001b[0m \u001b[0mstroke_width\u001b[0m\u001b[0;34m,\u001b[0m \u001b[0manchor\u001b[0m\u001b[0;34m\u001b[0m\u001b[0;34m\u001b[0m\u001b[0m\n\u001b[1;32m    659\u001b[0m         )\n",
      "\u001b[0;31mAttributeError\u001b[0m: 'TransposedFont' object has no attribute 'getbbox'"
     ]
    }
   ],
   "source": [
    "blog_img = WordCloud(background_color='white').generate_from_frequencies(java_script_freq)\n",
    "plt.imshow(blog_img)\n",
    "plt.axis('off')\n",
    "plt.show()"
   ]
  },
  {
   "cell_type": "code",
   "execution_count": null,
   "metadata": {},
   "outputs": [],
   "source": [
    "#sets the X and y variables for train, validate, and test\n",
    "X_train = train.clean_norm_token\n",
    "y_train = train.language\n",
    "X_validate = validate.clean_norm_token\n",
    "y_validate = validate.language\n",
    "X_test = test.clean_norm_token\n",
    "y_test = test.language"
   ]
  },
  {
   "cell_type": "code",
   "execution_count": null,
   "metadata": {},
   "outputs": [
    {
     "data": {
      "text/plain": [
       "51     cloudbet httpswwwcloudbetcom api publicly avai...\n",
       "103    bfjs bfjs javascript bookmarklet adding live c...\n",
       "68     esportsref website built nextmongo mongodb con...\n",
       "33     warning project longer supported check new ver...\n",
       "83     sport betting api go reference httpspkggodevba...\n",
       "Name: clean_norm_token, dtype: object"
      ]
     },
     "execution_count": 17,
     "metadata": {},
     "output_type": "execute_result"
    }
   ],
   "source": [
    "X_train.head()"
   ]
  },
  {
   "cell_type": "code",
   "execution_count": null,
   "metadata": {},
   "outputs": [],
   "source": [
    "#make my bag of words Term Frequency \n",
    "cv = CountVectorizer()\n",
    "X_bow = cv.fit_transform(X_train) \n",
    "X_validate_bow = cv.transform(X_validate)\n",
    "X_test_bow = cv.transform(X_test)"
   ]
  },
  {
   "cell_type": "code",
   "execution_count": null,
   "metadata": {},
   "outputs": [
    {
     "data": {
      "text/plain": [
       "(20, 4879)"
      ]
     },
     "execution_count": 19,
     "metadata": {},
     "output_type": "execute_result"
    }
   ],
   "source": [
    "X_validate_bow.shape"
   ]
  },
  {
   "cell_type": "code",
   "execution_count": null,
   "metadata": {},
   "outputs": [
    {
     "name": "stdout",
     "output_type": "stream",
     "text": [
      "     k  train_accuracy  validate_accuracy     delta\n",
      "7   12        0.633333               0.30  0.333333\n",
      "8   13        0.666667               0.40  0.266667\n",
      "14  19        0.600000               0.35  0.250000\n",
      "11  16        0.533333               0.35  0.183333\n",
      "1    6        0.516667               0.35  0.166667\n",
      "10  15        0.550000               0.40  0.150000\n",
      "0    5        0.533333               0.40  0.133333\n",
      "4    9        0.533333               0.40  0.133333\n",
      "9   14        0.616667               0.50  0.116667\n",
      "3    8        0.550000               0.45  0.100000\n",
      "12  17        0.550000               0.45  0.100000\n",
      "6   11        0.600000               0.50  0.100000\n",
      "5   10        0.583333               0.50  0.083333\n",
      "2    7        0.516667               0.45  0.066667\n",
      "13  18        0.516667               0.45  0.066667\n"
     ]
    }
   ],
   "source": [
    "#auto runs through knn models with k values 5-20\n",
    "atm.auto_knn_scores(X_bow, y_train, X_validate_bow, y_validate)"
   ]
  },
  {
   "cell_type": "code",
   "execution_count": null,
   "metadata": {},
   "outputs": [
    {
     "name": "stdout",
     "output_type": "stream",
     "text": [
      "    max_depth  train_accuracy  validate_accuracy     delta\n",
      "15         20        1.000000               0.35  0.650000\n",
      "10         15        0.983333               0.35  0.633333\n",
      "13         18        0.983333               0.35  0.633333\n",
      "12         17        0.983333               0.40  0.583333\n",
      "14         19        0.983333               0.40  0.583333\n",
      "9          14        0.966667               0.40  0.566667\n",
      "7          12        0.950000               0.40  0.550000\n",
      "8          13        0.950000               0.40  0.550000\n",
      "6          11        0.933333               0.40  0.533333\n",
      "11         16        0.983333               0.45  0.533333\n",
      "5          10        0.916667               0.45  0.466667\n",
      "4           9        0.883333               0.45  0.433333\n",
      "3           8        0.866667               0.45  0.416667\n",
      "2           7        0.833333               0.45  0.383333\n",
      "1           6        0.816667               0.50  0.316667\n",
      "0           5        0.733333               0.45  0.283333\n"
     ]
    }
   ],
   "source": [
    "#auto runs through random forest models with max_depth values 5-20\n",
    "atm.auto_random_forest_scores(X_bow, y_train, X_validate_bow, y_validate)"
   ]
  },
  {
   "cell_type": "code",
   "execution_count": null,
   "metadata": {},
   "outputs": [
    {
     "name": "stdout",
     "output_type": "stream",
     "text": [
      "    max_depth  train_accuracy  validate_accuracy     delta\n",
      "9          14        0.983333               0.40  0.583333\n",
      "10         15        0.983333               0.40  0.583333\n",
      "12         17        1.000000               0.45  0.550000\n",
      "13         18        1.000000               0.45  0.550000\n",
      "14         19        1.000000               0.45  0.550000\n",
      "15         20        1.000000               0.45  0.550000\n",
      "6          11        0.950000               0.40  0.550000\n",
      "11         16        0.983333               0.45  0.533333\n",
      "7          12        0.950000               0.45  0.500000\n",
      "2           7        0.866667               0.40  0.466667\n",
      "8          13        0.966667               0.50  0.466667\n",
      "4           9        0.916667               0.45  0.466667\n",
      "5          10        0.950000               0.50  0.450000\n",
      "3           8        0.900000               0.50  0.400000\n",
      "1           6        0.850000               0.45  0.400000\n",
      "0           5        0.766667               0.45  0.316667\n"
     ]
    }
   ],
   "source": [
    "#auto runs through decision tree models with the \"entropy\" parameter with max_depth values 5-20\n",
    "atm.auto_random_forest_entropy_scores(X_bow, y_train, X_validate_bow, y_validate)"
   ]
  },
  {
   "cell_type": "code",
   "execution_count": null,
   "metadata": {},
   "outputs": [
    {
     "name": "stdout",
     "output_type": "stream",
     "text": [
      "   c_range  train_accuracy  validate_accuracy  delta\n",
      "0      0.1             1.0               0.40   0.60\n",
      "1      0.2             1.0               0.45   0.55\n",
      "2      0.3             1.0               0.45   0.55\n",
      "3      0.4             1.0               0.45   0.55\n",
      "4      0.5             1.0               0.45   0.55\n",
      "5      0.6             1.0               0.45   0.55\n",
      "6      0.7             1.0               0.45   0.55\n",
      "7      0.8             1.0               0.45   0.55\n",
      "8      0.9             1.0               0.45   0.55\n"
     ]
    }
   ],
   "source": [
    "#auto runs through logistic regression models with C values .1-1\n",
    "atm.auto_lo_regress_scores(X_bow, y_train, X_validate_bow, y_validate)"
   ]
  },
  {
   "cell_type": "code",
   "execution_count": null,
   "metadata": {},
   "outputs": [],
   "source": [
    "#make my bag of words TF-IDF\n",
    "tfidf = TfidfVectorizer()\n",
    "X_bow = tfidf.fit_transform(X_train) \n",
    "X_validate_bow = tfidf.transform(X_validate)\n",
    "X_test_bow = tfidf.transform(X_test)"
   ]
  },
  {
   "cell_type": "code",
   "execution_count": null,
   "metadata": {},
   "outputs": [
    {
     "name": "stdout",
     "output_type": "stream",
     "text": [
      "     k  train_accuracy  validate_accuracy     delta\n",
      "13  18        0.550000               0.40  0.150000\n",
      "9   14        0.483333               0.35  0.133333\n",
      "10  15        0.533333               0.40  0.133333\n",
      "14  19        0.533333               0.40  0.133333\n",
      "7   12        0.483333               0.40  0.083333\n",
      "12  17        0.516667               0.45  0.066667\n",
      "0    5        0.566667               0.50  0.066667\n",
      "6   11        0.466667               0.40  0.066667\n",
      "1    6        0.500000               0.45  0.050000\n",
      "11  16        0.483333               0.45  0.033333\n",
      "2    7        0.566667               0.55  0.016667\n",
      "5   10        0.483333               0.50 -0.016667\n",
      "3    8        0.533333               0.55 -0.016667\n",
      "8   13        0.450000               0.50 -0.050000\n",
      "4    9        0.466667               0.55 -0.083333\n"
     ]
    }
   ],
   "source": [
    "#auto runs through knn models with k values 5-20\n",
    "atm.auto_knn_scores(X_bow, y_train, X_validate_bow, y_validate)"
   ]
  },
  {
   "cell_type": "code",
   "execution_count": null,
   "metadata": {},
   "outputs": [
    {
     "name": "stdout",
     "output_type": "stream",
     "text": [
      "    max_depth  train_accuracy  validate_accuracy     delta\n",
      "13         18        1.000000               0.45  0.550000\n",
      "14         19        1.000000               0.45  0.550000\n",
      "15         20        1.000000               0.45  0.550000\n",
      "8          13        0.983333               0.45  0.533333\n",
      "10         15        0.983333               0.45  0.533333\n",
      "11         16        0.983333               0.45  0.533333\n",
      "12         17        0.983333               0.45  0.533333\n",
      "7          12        0.966667               0.45  0.516667\n",
      "9          14        0.983333               0.50  0.483333\n",
      "3           8        0.900000               0.45  0.450000\n",
      "5          10        0.933333               0.50  0.433333\n",
      "6          11        0.933333               0.50  0.433333\n",
      "4           9        0.916667               0.50  0.416667\n",
      "2           7        0.866667               0.50  0.366667\n",
      "1           6        0.833333               0.50  0.333333\n",
      "0           5        0.816667               0.50  0.316667\n"
     ]
    }
   ],
   "source": [
    "#auto runs through random forest models with max_depth values 5-20\n",
    "atm.auto_random_forest_scores(X_bow, y_train, X_validate_bow, y_validate)"
   ]
  },
  {
   "cell_type": "code",
   "execution_count": null,
   "metadata": {},
   "outputs": [
    {
     "name": "stdout",
     "output_type": "stream",
     "text": [
      "    max_depth  train_accuracy  validate_accuracy     delta\n",
      "11         16        1.000000               0.45  0.550000\n",
      "8          13        0.966667               0.45  0.516667\n",
      "12         17        1.000000               0.50  0.500000\n",
      "13         18        1.000000               0.50  0.500000\n",
      "14         19        1.000000               0.50  0.500000\n",
      "15         20        1.000000               0.50  0.500000\n",
      "9          14        0.983333               0.50  0.483333\n",
      "10         15        0.983333               0.50  0.483333\n",
      "5          10        0.966667               0.50  0.466667\n",
      "6          11        0.966667               0.50  0.466667\n",
      "7          12        0.966667               0.50  0.466667\n",
      "2           7        0.900000               0.45  0.450000\n",
      "4           9        0.950000               0.50  0.450000\n",
      "1           6        0.900000               0.50  0.400000\n",
      "3           8        0.900000               0.50  0.400000\n",
      "0           5        0.800000               0.50  0.300000\n"
     ]
    }
   ],
   "source": [
    "#auto runs through decision tree models with the \"entropy\" parameter with max_depth values 5-20\n",
    "atm.auto_random_forest_entropy_scores(X_bow, y_train, X_validate_bow, y_validate)"
   ]
  },
  {
   "cell_type": "code",
   "execution_count": null,
   "metadata": {},
   "outputs": [
    {
     "name": "stdout",
     "output_type": "stream",
     "text": [
      "   c_range  train_accuracy  validate_accuracy     delta\n",
      "8      0.9        0.900000               0.50  0.400000\n",
      "7      0.8        0.850000               0.45  0.400000\n",
      "6      0.7        0.766667               0.45  0.316667\n",
      "5      0.6        0.683333               0.45  0.233333\n",
      "4      0.5        0.500000               0.45  0.050000\n",
      "3      0.4        0.466667               0.45  0.016667\n",
      "0      0.1        0.433333               0.45 -0.016667\n",
      "1      0.2        0.433333               0.45 -0.016667\n",
      "2      0.3        0.433333               0.45 -0.016667\n"
     ]
    }
   ],
   "source": [
    "#auto runs through logistic regression models with C values .1-1\n",
    "atm.auto_lo_regress_scores(X_bow, y_train, X_validate_bow, y_validate)"
   ]
  }
 ],
 "metadata": {
  "kernelspec": {
   "display_name": "base",
   "language": "python",
   "name": "python3"
  },
  "language_info": {
   "codemirror_mode": {
    "name": "ipython",
    "version": 3
   },
   "file_extension": ".py",
   "mimetype": "text/x-python",
   "name": "python",
   "nbconvert_exporter": "python",
   "pygments_lexer": "ipython3",
   "version": "3.8.8"
  },
  "orig_nbformat": 4
 },
 "nbformat": 4,
 "nbformat_minor": 2
}
